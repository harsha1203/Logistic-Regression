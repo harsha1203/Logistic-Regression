{
 "cells": [
  {
   "cell_type": "markdown",
   "metadata": {},
   "source": [
    "# Bank Marketing Data Set \n",
    "\n",
    "Source: https://archive.ics.uci.edu/ml/datasets/Bank+Marketing"
   ]
  },
  {
   "cell_type": "code",
   "execution_count": 1,
   "metadata": {
    "collapsed": true
   },
   "outputs": [],
   "source": [
    "%matplotlib inline"
   ]
  },
  {
   "cell_type": "markdown",
   "metadata": {},
   "source": [
    "** Importing Libraries **"
   ]
  },
  {
   "cell_type": "code",
   "execution_count": 2,
   "metadata": {
    "collapsed": false
   },
   "outputs": [
    {
     "name": "stderr",
     "output_type": "stream",
     "text": [
      "/Users/admin/anaconda/envs/gl-env/lib/python2.7/site-packages/sklearn/cross_validation.py:44: DeprecationWarning: This module was deprecated in version 0.18 in favor of the model_selection module into which all the refactored classes and functions are moved. Also note that the interface of the new CV iterators are different from that of this module. This module will be removed in 0.20.\n",
      "  \"This module will be removed in 0.20.\", DeprecationWarning)\n"
     ]
    }
   ],
   "source": [
    "import seaborn as sns\n",
    "import numpy as np\n",
    "import scipy.stats as stats\n",
    "import seaborn as sns\n",
    "import matplotlib.pyplot as plt\n",
    "import pandas as pd\n",
    "import patsy\n",
    "import sklearn.linear_model as linear\n",
    "import random\n",
    "sns.set(style=\"darkgrid\")\n",
    "import os,sys\n",
    "import xlrd\n",
    "import math\n",
    "from pandas.tools.plotting import scatter_matrix\n",
    "plt.style.use('ggplot')\n",
    "%matplotlib inline\n",
    "from sklearn.cross_validation import ShuffleSplit\n",
    "from sklearn.cross_validation import train_test_split\n",
    "from sklearn import metrics as mt\n",
    "import datetime\n",
    "import time\n",
    "from sklearn.datasets import make_classification\n",
    "from sklearn.linear_model import LogisticRegression\n",
    "from sklearn.ensemble import (RandomTreesEmbedding, RandomForestClassifier,\n",
    "                              GradientBoostingClassifier)\n",
    "from sklearn.preprocessing import OneHotEncoder\n",
    "from sklearn.cross_validation import train_test_split\n",
    "from sklearn.metrics import roc_curve\n",
    "from sklearn.pipeline import make_pipeline\n",
    "from sklearn.metrics import roc_curve, auc\n",
    "import pylab as p\n",
    "from sklearn import tree\n",
    "from io import BytesIO as StringIO\n",
    "from IPython.display import Image\n",
    "import pydotplus\n",
    "from IPython.display import Image  \n",
    "import pydotplus\n",
    "from io import BytesIO as StringIO\n",
    "import graphviz\n",
    "import copy\n",
    "from copy import deepcopy\n",
    "from sklearn import cross_validation\n",
    "from numpy import random as np_random\n",
    "from sklearn.tree import DecisionTreeRegressor\n",
    "from sklearn import linear_model\n",
    "\n"
   ]
  },
  {
   "cell_type": "markdown",
   "metadata": {},
   "source": [
    "### Start of  ETL \n"
   ]
  },
  {
   "cell_type": "code",
   "execution_count": 1,
   "metadata": {
    "collapsed": true
   },
   "outputs": [],
   "source": [
    "import pandas as pd"
   ]
  },
  {
   "cell_type": "code",
   "execution_count": 4,
   "metadata": {
    "collapsed": false
   },
   "outputs": [
    {
     "name": "stdout",
     "output_type": "stream",
     "text": [
      "<class 'pandas.core.frame.DataFrame'>\n",
      "RangeIndex: 41188 entries, 0 to 41187\n",
      "Data columns (total 21 columns):\n",
      "age               41188 non-null int64\n",
      "job               41188 non-null object\n",
      "marital           41188 non-null object\n",
      "education         41188 non-null object\n",
      "default           41188 non-null object\n",
      "housing           41188 non-null object\n",
      "loan              41188 non-null object\n",
      "contact           41188 non-null object\n",
      "month             41188 non-null object\n",
      "day_of_week       41188 non-null object\n",
      "duration          41188 non-null int64\n",
      "campaign          41188 non-null int64\n",
      "pdays             41188 non-null int64\n",
      "previous          41188 non-null int64\n",
      "poutcome          41188 non-null object\n",
      "emp.var.rate      41188 non-null float64\n",
      "cons.price.idx    41188 non-null float64\n",
      "cons.conf.idx     41188 non-null float64\n",
      "euribor3m         41188 non-null float64\n",
      "nr.employed       41188 non-null float64\n",
      "y                 41188 non-null object\n",
      "dtypes: float64(5), int64(5), object(11)\n",
      "memory usage: 6.6+ MB\n",
      "None\n"
     ]
    },
    {
     "data": {
      "text/html": [
       "<div>\n",
       "<table border=\"1\" class=\"dataframe\">\n",
       "  <thead>\n",
       "    <tr style=\"text-align: right;\">\n",
       "      <th></th>\n",
       "      <th>age</th>\n",
       "      <th>job</th>\n",
       "      <th>marital</th>\n",
       "      <th>education</th>\n",
       "      <th>default</th>\n",
       "      <th>housing</th>\n",
       "      <th>loan</th>\n",
       "      <th>contact</th>\n",
       "      <th>month</th>\n",
       "      <th>day_of_week</th>\n",
       "      <th>...</th>\n",
       "      <th>campaign</th>\n",
       "      <th>pdays</th>\n",
       "      <th>previous</th>\n",
       "      <th>poutcome</th>\n",
       "      <th>emp.var.rate</th>\n",
       "      <th>cons.price.idx</th>\n",
       "      <th>cons.conf.idx</th>\n",
       "      <th>euribor3m</th>\n",
       "      <th>nr.employed</th>\n",
       "      <th>y</th>\n",
       "    </tr>\n",
       "  </thead>\n",
       "  <tbody>\n",
       "    <tr>\n",
       "      <th>0</th>\n",
       "      <td>56</td>\n",
       "      <td>housemaid</td>\n",
       "      <td>married</td>\n",
       "      <td>basic.4y</td>\n",
       "      <td>no</td>\n",
       "      <td>no</td>\n",
       "      <td>no</td>\n",
       "      <td>telephone</td>\n",
       "      <td>may</td>\n",
       "      <td>mon</td>\n",
       "      <td>...</td>\n",
       "      <td>1</td>\n",
       "      <td>999</td>\n",
       "      <td>0</td>\n",
       "      <td>nonexistent</td>\n",
       "      <td>1.1</td>\n",
       "      <td>93.994</td>\n",
       "      <td>-36.4</td>\n",
       "      <td>4.857</td>\n",
       "      <td>5191.0</td>\n",
       "      <td>no</td>\n",
       "    </tr>\n",
       "    <tr>\n",
       "      <th>1</th>\n",
       "      <td>57</td>\n",
       "      <td>services</td>\n",
       "      <td>married</td>\n",
       "      <td>high.school</td>\n",
       "      <td>unknown</td>\n",
       "      <td>no</td>\n",
       "      <td>no</td>\n",
       "      <td>telephone</td>\n",
       "      <td>may</td>\n",
       "      <td>mon</td>\n",
       "      <td>...</td>\n",
       "      <td>1</td>\n",
       "      <td>999</td>\n",
       "      <td>0</td>\n",
       "      <td>nonexistent</td>\n",
       "      <td>1.1</td>\n",
       "      <td>93.994</td>\n",
       "      <td>-36.4</td>\n",
       "      <td>4.857</td>\n",
       "      <td>5191.0</td>\n",
       "      <td>no</td>\n",
       "    </tr>\n",
       "    <tr>\n",
       "      <th>2</th>\n",
       "      <td>37</td>\n",
       "      <td>services</td>\n",
       "      <td>married</td>\n",
       "      <td>high.school</td>\n",
       "      <td>no</td>\n",
       "      <td>yes</td>\n",
       "      <td>no</td>\n",
       "      <td>telephone</td>\n",
       "      <td>may</td>\n",
       "      <td>mon</td>\n",
       "      <td>...</td>\n",
       "      <td>1</td>\n",
       "      <td>999</td>\n",
       "      <td>0</td>\n",
       "      <td>nonexistent</td>\n",
       "      <td>1.1</td>\n",
       "      <td>93.994</td>\n",
       "      <td>-36.4</td>\n",
       "      <td>4.857</td>\n",
       "      <td>5191.0</td>\n",
       "      <td>no</td>\n",
       "    </tr>\n",
       "    <tr>\n",
       "      <th>3</th>\n",
       "      <td>40</td>\n",
       "      <td>admin.</td>\n",
       "      <td>married</td>\n",
       "      <td>basic.6y</td>\n",
       "      <td>no</td>\n",
       "      <td>no</td>\n",
       "      <td>no</td>\n",
       "      <td>telephone</td>\n",
       "      <td>may</td>\n",
       "      <td>mon</td>\n",
       "      <td>...</td>\n",
       "      <td>1</td>\n",
       "      <td>999</td>\n",
       "      <td>0</td>\n",
       "      <td>nonexistent</td>\n",
       "      <td>1.1</td>\n",
       "      <td>93.994</td>\n",
       "      <td>-36.4</td>\n",
       "      <td>4.857</td>\n",
       "      <td>5191.0</td>\n",
       "      <td>no</td>\n",
       "    </tr>\n",
       "    <tr>\n",
       "      <th>4</th>\n",
       "      <td>56</td>\n",
       "      <td>services</td>\n",
       "      <td>married</td>\n",
       "      <td>high.school</td>\n",
       "      <td>no</td>\n",
       "      <td>no</td>\n",
       "      <td>yes</td>\n",
       "      <td>telephone</td>\n",
       "      <td>may</td>\n",
       "      <td>mon</td>\n",
       "      <td>...</td>\n",
       "      <td>1</td>\n",
       "      <td>999</td>\n",
       "      <td>0</td>\n",
       "      <td>nonexistent</td>\n",
       "      <td>1.1</td>\n",
       "      <td>93.994</td>\n",
       "      <td>-36.4</td>\n",
       "      <td>4.857</td>\n",
       "      <td>5191.0</td>\n",
       "      <td>no</td>\n",
       "    </tr>\n",
       "  </tbody>\n",
       "</table>\n",
       "<p>5 rows × 21 columns</p>\n",
       "</div>"
      ],
      "text/plain": [
       "   age        job  marital    education  default housing loan    contact  \\\n",
       "0   56  housemaid  married     basic.4y       no      no   no  telephone   \n",
       "1   57   services  married  high.school  unknown      no   no  telephone   \n",
       "2   37   services  married  high.school       no     yes   no  telephone   \n",
       "3   40     admin.  married     basic.6y       no      no   no  telephone   \n",
       "4   56   services  married  high.school       no      no  yes  telephone   \n",
       "\n",
       "  month day_of_week ...  campaign  pdays  previous     poutcome emp.var.rate  \\\n",
       "0   may         mon ...         1    999         0  nonexistent          1.1   \n",
       "1   may         mon ...         1    999         0  nonexistent          1.1   \n",
       "2   may         mon ...         1    999         0  nonexistent          1.1   \n",
       "3   may         mon ...         1    999         0  nonexistent          1.1   \n",
       "4   may         mon ...         1    999         0  nonexistent          1.1   \n",
       "\n",
       "   cons.price.idx  cons.conf.idx  euribor3m  nr.employed   y  \n",
       "0          93.994          -36.4      4.857       5191.0  no  \n",
       "1          93.994          -36.4      4.857       5191.0  no  \n",
       "2          93.994          -36.4      4.857       5191.0  no  \n",
       "3          93.994          -36.4      4.857       5191.0  no  \n",
       "4          93.994          -36.4      4.857       5191.0  no  \n",
       "\n",
       "[5 rows x 21 columns]"
      ]
     },
     "execution_count": 4,
     "metadata": {},
     "output_type": "execute_result"
    }
   ],
   "source": [
    "dataframe = pd.read_csv( \"bank-additional-full.csv\", sep=\";\")\n",
    "print dataframe.info()\n",
    "dataframe.head(5)"
   ]
  },
  {
   "cell_type": "markdown",
   "metadata": {},
   "source": [
    "# The columns"
   ]
  },
  {
   "cell_type": "code",
   "execution_count": 5,
   "metadata": {
    "collapsed": false
   },
   "outputs": [
    {
     "data": {
      "text/plain": [
       "array(['age', 'job', 'marital', 'education', 'default', 'housing', 'loan',\n",
       "       'contact', 'month', 'day_of_week', 'duration', 'campaign', 'pdays',\n",
       "       'previous', 'poutcome', 'emp.var.rate', 'cons.price.idx',\n",
       "       'cons.conf.idx', 'euribor3m', 'nr.employed', 'y'], dtype=object)"
      ]
     },
     "execution_count": 5,
     "metadata": {},
     "output_type": "execute_result"
    }
   ],
   "source": [
    "dataframe.columns.values"
   ]
  },
  {
   "cell_type": "markdown",
   "metadata": {
    "collapsed": true
   },
   "source": [
    "### 3. Conducting  EDA on the raw data. What conclusions did I reach?"
   ]
  },
  {
   "cell_type": "code",
   "execution_count": 6,
   "metadata": {
    "collapsed": false
   },
   "outputs": [
    {
     "name": "stdout",
     "output_type": "stream",
     "text": [
      "----------\n",
      "int64\n",
      "count    41188.00000\n",
      "mean        40.02406\n",
      "std         10.42125\n",
      "min         17.00000\n",
      "25%         32.00000\n",
      "50%         38.00000\n",
      "75%         47.00000\n",
      "max         98.00000\n",
      "Name: age, dtype: float64\n",
      "----------\n",
      "object\n",
      "admin.           10422\n",
      "blue-collar       9254\n",
      "technician        6743\n",
      "services          3969\n",
      "management        2924\n",
      "retired           1720\n",
      "entrepreneur      1456\n",
      "self-employed     1421\n",
      "housemaid         1060\n",
      "unemployed        1014\n",
      "student            875\n",
      "unknown            330\n",
      "Name: job, dtype: int64\n",
      "Name:  job\n",
      "----------\n",
      "object\n",
      "married     24928\n",
      "single      11568\n",
      "divorced     4612\n",
      "unknown        80\n",
      "Name: marital, dtype: int64\n",
      "Name:  marital\n",
      "----------\n",
      "object\n",
      "university.degree      12168\n",
      "high.school             9515\n",
      "basic.9y                6045\n",
      "professional.course     5243\n",
      "basic.4y                4176\n",
      "basic.6y                2292\n",
      "unknown                 1731\n",
      "illiterate                18\n",
      "Name: education, dtype: int64\n",
      "Name:  education\n",
      "----------\n",
      "object\n",
      "no         32588\n",
      "unknown     8597\n",
      "yes            3\n",
      "Name: default, dtype: int64\n",
      "Name:  default\n",
      "----------\n",
      "object\n",
      "yes        21576\n",
      "no         18622\n",
      "unknown      990\n",
      "Name: housing, dtype: int64\n",
      "Name:  housing\n",
      "----------\n",
      "object\n",
      "no         33950\n",
      "yes         6248\n",
      "unknown      990\n",
      "Name: loan, dtype: int64\n",
      "Name:  loan\n",
      "----------\n",
      "object\n",
      "cellular     26144\n",
      "telephone    15044\n",
      "Name: contact, dtype: int64\n",
      "Name:  contact\n",
      "----------\n",
      "object\n",
      "may    13769\n",
      "jul     7174\n",
      "aug     6178\n",
      "jun     5318\n",
      "nov     4101\n",
      "apr     2632\n",
      "oct      718\n",
      "sep      570\n",
      "mar      546\n",
      "dec      182\n",
      "Name: month, dtype: int64\n",
      "Name:  month\n",
      "----------\n",
      "object\n",
      "thu    8623\n",
      "mon    8514\n",
      "wed    8134\n",
      "tue    8090\n",
      "fri    7827\n",
      "Name: day_of_week, dtype: int64\n",
      "Name:  day_of_week\n",
      "----------\n",
      "int64\n",
      "count    41188.000000\n",
      "mean       258.285010\n",
      "std        259.279249\n",
      "min          0.000000\n",
      "25%        102.000000\n",
      "50%        180.000000\n",
      "75%        319.000000\n",
      "max       4918.000000\n",
      "Name: duration, dtype: float64\n",
      "----------\n",
      "int64\n",
      "count    41188.000000\n",
      "mean         2.567593\n",
      "std          2.770014\n",
      "min          1.000000\n",
      "25%          1.000000\n",
      "50%          2.000000\n",
      "75%          3.000000\n",
      "max         56.000000\n",
      "Name: campaign, dtype: float64\n",
      "----------\n",
      "int64\n",
      "count    41188.000000\n",
      "mean       962.475454\n",
      "std        186.910907\n",
      "min          0.000000\n",
      "25%        999.000000\n",
      "50%        999.000000\n",
      "75%        999.000000\n",
      "max        999.000000\n",
      "Name: pdays, dtype: float64\n",
      "----------\n",
      "int64\n",
      "count    41188.000000\n",
      "mean         0.172963\n",
      "std          0.494901\n",
      "min          0.000000\n",
      "25%          0.000000\n",
      "50%          0.000000\n",
      "75%          0.000000\n",
      "max          7.000000\n",
      "Name: previous, dtype: float64\n",
      "----------\n",
      "object\n",
      "nonexistent    35563\n",
      "failure         4252\n",
      "success         1373\n",
      "Name: poutcome, dtype: int64\n",
      "Name:  poutcome\n",
      "----------\n",
      "float64\n",
      "count    41188.000000\n",
      "mean         0.081886\n",
      "std          1.570960\n",
      "min         -3.400000\n",
      "25%         -1.800000\n",
      "50%          1.100000\n",
      "75%          1.400000\n",
      "max          1.400000\n",
      "Name: emp.var.rate, dtype: float64\n",
      "----------\n",
      "float64\n",
      "count    41188.000000\n",
      "mean        93.575664\n",
      "std          0.578840\n",
      "min         92.201000\n",
      "25%         93.075000\n",
      "50%         93.749000\n",
      "75%         93.994000\n",
      "max         94.767000\n",
      "Name: cons.price.idx, dtype: float64\n",
      "----------\n",
      "float64\n",
      "count    41188.000000\n",
      "mean       -40.502600\n",
      "std          4.628198\n",
      "min        -50.800000\n",
      "25%        -42.700000\n",
      "50%        -41.800000\n",
      "75%        -36.400000\n",
      "max        -26.900000\n",
      "Name: cons.conf.idx, dtype: float64\n",
      "----------\n",
      "float64\n",
      "count    41188.000000\n",
      "mean         3.621291\n",
      "std          1.734447\n",
      "min          0.634000\n",
      "25%          1.344000\n",
      "50%          4.857000\n",
      "75%          4.961000\n",
      "max          5.045000\n",
      "Name: euribor3m, dtype: float64\n",
      "----------\n",
      "float64\n",
      "count    41188.000000\n",
      "mean      5167.035911\n",
      "std         72.251528\n",
      "min       4963.600000\n",
      "25%       5099.100000\n",
      "50%       5191.000000\n",
      "75%       5228.100000\n",
      "max       5228.100000\n",
      "Name: nr.employed, dtype: float64\n",
      "----------\n",
      "object\n",
      "no     36548\n",
      "yes     4640\n",
      "Name: y, dtype: int64\n",
      "Name:  y\n"
     ]
    }
   ],
   "source": [
    "def examine_data_frame( df):\n",
    "    for name in df.columns:\n",
    "        print \"----------\"\n",
    "        print df[ name].dtype\n",
    "        if df[ name].dtype is np.dtype( 'O'):\n",
    "            print df[ name].value_counts()\n",
    "            print \"Name: \", name\n",
    "        else:\n",
    "            print df[ name].describe()\n",
    "\n",
    "examine_data_frame(dataframe)"
   ]
  },
  {
   "cell_type": "code",
   "execution_count": 7,
   "metadata": {
    "collapsed": false
   },
   "outputs": [
    {
     "data": {
      "text/html": [
       "<div>\n",
       "<table border=\"1\" class=\"dataframe\">\n",
       "  <thead>\n",
       "    <tr style=\"text-align: right;\">\n",
       "      <th></th>\n",
       "      <th>job_admin.</th>\n",
       "      <th>job_blue-collar</th>\n",
       "      <th>job_entrepreneur</th>\n",
       "      <th>job_housemaid</th>\n",
       "      <th>job_management</th>\n",
       "      <th>job_retired</th>\n",
       "      <th>job_self-employed</th>\n",
       "      <th>job_services</th>\n",
       "      <th>job_student</th>\n",
       "      <th>job_technician</th>\n",
       "      <th>...</th>\n",
       "      <th>campaign</th>\n",
       "      <th>pdays</th>\n",
       "      <th>previous</th>\n",
       "      <th>poutcome</th>\n",
       "      <th>emp.var.rate</th>\n",
       "      <th>cons.price.idx</th>\n",
       "      <th>cons.conf.idx</th>\n",
       "      <th>euribor3m</th>\n",
       "      <th>nr.employed</th>\n",
       "      <th>y</th>\n",
       "    </tr>\n",
       "  </thead>\n",
       "  <tbody>\n",
       "    <tr>\n",
       "      <th>0</th>\n",
       "      <td>0.0</td>\n",
       "      <td>0.0</td>\n",
       "      <td>0.0</td>\n",
       "      <td>1.0</td>\n",
       "      <td>0.0</td>\n",
       "      <td>0.0</td>\n",
       "      <td>0.0</td>\n",
       "      <td>0.0</td>\n",
       "      <td>0.0</td>\n",
       "      <td>0.0</td>\n",
       "      <td>...</td>\n",
       "      <td>1</td>\n",
       "      <td>999</td>\n",
       "      <td>0</td>\n",
       "      <td>nonexistent</td>\n",
       "      <td>1.1</td>\n",
       "      <td>93.994</td>\n",
       "      <td>-36.4</td>\n",
       "      <td>4.857</td>\n",
       "      <td>5191.0</td>\n",
       "      <td>no</td>\n",
       "    </tr>\n",
       "    <tr>\n",
       "      <th>1</th>\n",
       "      <td>0.0</td>\n",
       "      <td>0.0</td>\n",
       "      <td>0.0</td>\n",
       "      <td>0.0</td>\n",
       "      <td>0.0</td>\n",
       "      <td>0.0</td>\n",
       "      <td>0.0</td>\n",
       "      <td>1.0</td>\n",
       "      <td>0.0</td>\n",
       "      <td>0.0</td>\n",
       "      <td>...</td>\n",
       "      <td>1</td>\n",
       "      <td>999</td>\n",
       "      <td>0</td>\n",
       "      <td>nonexistent</td>\n",
       "      <td>1.1</td>\n",
       "      <td>93.994</td>\n",
       "      <td>-36.4</td>\n",
       "      <td>4.857</td>\n",
       "      <td>5191.0</td>\n",
       "      <td>no</td>\n",
       "    </tr>\n",
       "    <tr>\n",
       "      <th>2</th>\n",
       "      <td>0.0</td>\n",
       "      <td>0.0</td>\n",
       "      <td>0.0</td>\n",
       "      <td>0.0</td>\n",
       "      <td>0.0</td>\n",
       "      <td>0.0</td>\n",
       "      <td>0.0</td>\n",
       "      <td>1.0</td>\n",
       "      <td>0.0</td>\n",
       "      <td>0.0</td>\n",
       "      <td>...</td>\n",
       "      <td>1</td>\n",
       "      <td>999</td>\n",
       "      <td>0</td>\n",
       "      <td>nonexistent</td>\n",
       "      <td>1.1</td>\n",
       "      <td>93.994</td>\n",
       "      <td>-36.4</td>\n",
       "      <td>4.857</td>\n",
       "      <td>5191.0</td>\n",
       "      <td>no</td>\n",
       "    </tr>\n",
       "    <tr>\n",
       "      <th>3</th>\n",
       "      <td>1.0</td>\n",
       "      <td>0.0</td>\n",
       "      <td>0.0</td>\n",
       "      <td>0.0</td>\n",
       "      <td>0.0</td>\n",
       "      <td>0.0</td>\n",
       "      <td>0.0</td>\n",
       "      <td>0.0</td>\n",
       "      <td>0.0</td>\n",
       "      <td>0.0</td>\n",
       "      <td>...</td>\n",
       "      <td>1</td>\n",
       "      <td>999</td>\n",
       "      <td>0</td>\n",
       "      <td>nonexistent</td>\n",
       "      <td>1.1</td>\n",
       "      <td>93.994</td>\n",
       "      <td>-36.4</td>\n",
       "      <td>4.857</td>\n",
       "      <td>5191.0</td>\n",
       "      <td>no</td>\n",
       "    </tr>\n",
       "    <tr>\n",
       "      <th>4</th>\n",
       "      <td>0.0</td>\n",
       "      <td>0.0</td>\n",
       "      <td>0.0</td>\n",
       "      <td>0.0</td>\n",
       "      <td>0.0</td>\n",
       "      <td>0.0</td>\n",
       "      <td>0.0</td>\n",
       "      <td>1.0</td>\n",
       "      <td>0.0</td>\n",
       "      <td>0.0</td>\n",
       "      <td>...</td>\n",
       "      <td>1</td>\n",
       "      <td>999</td>\n",
       "      <td>0</td>\n",
       "      <td>nonexistent</td>\n",
       "      <td>1.1</td>\n",
       "      <td>93.994</td>\n",
       "      <td>-36.4</td>\n",
       "      <td>4.857</td>\n",
       "      <td>5191.0</td>\n",
       "      <td>no</td>\n",
       "    </tr>\n",
       "  </tbody>\n",
       "</table>\n",
       "<p>5 rows × 74 columns</p>\n",
       "</div>"
      ],
      "text/plain": [
       "   job_admin.  job_blue-collar  job_entrepreneur  job_housemaid  \\\n",
       "0         0.0              0.0               0.0            1.0   \n",
       "1         0.0              0.0               0.0            0.0   \n",
       "2         0.0              0.0               0.0            0.0   \n",
       "3         1.0              0.0               0.0            0.0   \n",
       "4         0.0              0.0               0.0            0.0   \n",
       "\n",
       "   job_management  job_retired  job_self-employed  job_services  job_student  \\\n",
       "0             0.0          0.0                0.0           0.0          0.0   \n",
       "1             0.0          0.0                0.0           1.0          0.0   \n",
       "2             0.0          0.0                0.0           1.0          0.0   \n",
       "3             0.0          0.0                0.0           0.0          0.0   \n",
       "4             0.0          0.0                0.0           1.0          0.0   \n",
       "\n",
       "   job_technician ...  campaign  pdays  previous     poutcome  emp.var.rate  \\\n",
       "0             0.0 ...         1    999         0  nonexistent           1.1   \n",
       "1             0.0 ...         1    999         0  nonexistent           1.1   \n",
       "2             0.0 ...         1    999         0  nonexistent           1.1   \n",
       "3             0.0 ...         1    999         0  nonexistent           1.1   \n",
       "4             0.0 ...         1    999         0  nonexistent           1.1   \n",
       "\n",
       "   cons.price.idx  cons.conf.idx  euribor3m  nr.employed   y  \n",
       "0          93.994          -36.4      4.857       5191.0  no  \n",
       "1          93.994          -36.4      4.857       5191.0  no  \n",
       "2          93.994          -36.4      4.857       5191.0  no  \n",
       "3          93.994          -36.4      4.857       5191.0  no  \n",
       "4          93.994          -36.4      4.857       5191.0  no  \n",
       "\n",
       "[5 rows x 74 columns]"
      ]
     },
     "execution_count": 7,
     "metadata": {},
     "output_type": "execute_result"
    }
   ],
   "source": [
    "cols =['job', 'marital', 'education', 'default', 'housing', 'loan',\n",
    "       'contact', 'month', 'day_of_week', 'poutcome']\n",
    "data_1 = dataframe[cols]\n",
    "data_dummies = pd.get_dummies(data_1)\n",
    "result_df = pd.concat([data_dummies, dataframe], axis=1)\n",
    "result_df.head()"
   ]
  },
  {
   "cell_type": "code",
   "execution_count": 8,
   "metadata": {
    "collapsed": false
   },
   "outputs": [
    {
     "data": {
      "text/plain": [
       "array(['job_admin.', 'job_blue-collar', 'job_entrepreneur',\n",
       "       'job_housemaid', 'job_management', 'job_retired',\n",
       "       'job_self-employed', 'job_services', 'job_student',\n",
       "       'job_technician', 'job_unemployed', 'job_unknown',\n",
       "       'marital_divorced', 'marital_married', 'marital_single',\n",
       "       'marital_unknown', 'education_basic.4y', 'education_basic.6y',\n",
       "       'education_basic.9y', 'education_high.school',\n",
       "       'education_illiterate', 'education_professional.course',\n",
       "       'education_university.degree', 'education_unknown', 'default_no',\n",
       "       'default_unknown', 'default_yes', 'housing_no', 'housing_unknown',\n",
       "       'housing_yes', 'loan_no', 'loan_unknown', 'loan_yes',\n",
       "       'contact_cellular', 'contact_telephone', 'month_apr', 'month_aug',\n",
       "       'month_dec', 'month_jul', 'month_jun', 'month_mar', 'month_may',\n",
       "       'month_nov', 'month_oct', 'month_sep', 'day_of_week_fri',\n",
       "       'day_of_week_mon', 'day_of_week_thu', 'day_of_week_tue',\n",
       "       'day_of_week_wed', 'poutcome_failure', 'poutcome_nonexistent',\n",
       "       'poutcome_success', 'age', 'job', 'marital', 'education', 'default',\n",
       "       'housing', 'loan', 'contact', 'month', 'day_of_week', 'duration',\n",
       "       'campaign', 'pdays', 'previous', 'poutcome', 'emp.var.rate',\n",
       "       'cons.price.idx', 'cons.conf.idx', 'euribor3m', 'nr.employed', 'y'], dtype=object)"
      ]
     },
     "execution_count": 8,
     "metadata": {},
     "output_type": "execute_result"
    }
   ],
   "source": [
    "result_df.columns.values # Performed one-hot encoding so that I can use it in EDA"
   ]
  },
  {
   "cell_type": "code",
   "execution_count": 9,
   "metadata": {
    "collapsed": false
   },
   "outputs": [],
   "source": [
    "result_df['output'] = result_df['y'].apply(lambda x: 1 if x =='yes' else 0)"
   ]
  },
  {
   "cell_type": "markdown",
   "metadata": {
    "collapsed": true
   },
   "source": [
    "### 1) Comparing Qualitative vs. Quantitative Analysis"
   ]
  },
  {
   "cell_type": "markdown",
   "metadata": {},
   "source": [
    "#### 1.1  Number of employees vs. Output"
   ]
  },
  {
   "cell_type": "code",
   "execution_count": 10,
   "metadata": {
    "collapsed": false
   },
   "outputs": [
    {
     "name": "stdout",
     "output_type": "stream",
     "text": [
      "       count         mean        std     min     25%     50%     75%     max\n",
      "y                                                                           \n",
      "no   36548.0  5176.166600  64.571979  4963.6  5099.1  5195.8  5228.1  5228.1\n",
      "yes   4640.0  5095.115991  87.572641  4963.6  5017.5  5099.1  5191.0  5228.1\n"
     ]
    }
   ],
   "source": [
    "grouped = result_df.groupby( \"y\")\n",
    "nr_employed = grouped[ \"nr.employed\"].describe()\n",
    "nr_employed = nr_employed.unstack( level=-1)\n",
    "print nr_employed\n"
   ]
  },
  {
   "cell_type": "markdown",
   "metadata": {
    "collapsed": true
   },
   "source": [
    "#### Conclusion:\n",
    "1. Number of employess (mean) is less for output-yes which suggests that higher number of employees have negative impact on output"
   ]
  },
  {
   "cell_type": "markdown",
   "metadata": {
    "collapsed": true
   },
   "source": [
    "#### 1.2 Pdays vs. output"
   ]
  },
  {
   "cell_type": "code",
   "execution_count": 11,
   "metadata": {
    "collapsed": false
   },
   "outputs": [
    {
     "name": "stdout",
     "output_type": "stream",
     "text": [
      "       count        mean         std  min    25%    50%    75%    max\n",
      "y                                                                    \n",
      "no   36548.0  984.113878  120.656868  0.0  999.0  999.0  999.0  999.0\n",
      "yes   4640.0  792.035560  403.407181  0.0  999.0  999.0  999.0  999.0\n"
     ]
    }
   ],
   "source": [
    "grouped = result_df.groupby( \"y\")\n",
    "pdays = grouped[ \"pdays\"].describe()\n",
    "pdays = pdays.unstack( level=-1)\n",
    "print pdays\n"
   ]
  },
  {
   "cell_type": "markdown",
   "metadata": {},
   "source": [
    "#### Conclusion:\n",
    "1. PDays (mean) is less for output-yes which suggests that higher higher 'pdays' have negative impact on output, which makes sense. Higher 'pdays' \n",
    "i.e. more number of days that passed by after the client was last contacted from a previous campaign, lesser will be chances for bank trem deposits"
   ]
  },
  {
   "cell_type": "markdown",
   "metadata": {},
   "source": [
    "#### 2 Qualitative vs. Qualitative"
   ]
  },
  {
   "cell_type": "markdown",
   "metadata": {},
   "source": [
    "####  2.1 Month vs. Output"
   ]
  },
  {
   "cell_type": "code",
   "execution_count": 12,
   "metadata": {
    "collapsed": false
   },
   "outputs": [
    {
     "name": "stdout",
     "output_type": "stream",
     "text": [
      "y            no       yes\n",
      "month                    \n",
      "apr    0.050816  0.013086\n",
      "aug    0.134092  0.015903\n",
      "dec    0.002258  0.002161\n",
      "jul    0.158420  0.015757\n",
      "jun    0.115543  0.013572\n",
      "mar    0.006555  0.006701\n",
      "may    0.312785  0.021511\n",
      "nov    0.089468  0.010100\n",
      "oct    0.009784  0.007648\n",
      "sep    0.007624  0.006215\n"
     ]
    },
    {
     "data": {
      "text/plain": [
       "<matplotlib.axes._subplots.AxesSubplot at 0x1163d1e10>"
      ]
     },
     "execution_count": 12,
     "metadata": {},
     "output_type": "execute_result"
    },
    {
     "data": {
      "image/png": "[encoded data removed]",
      "text/plain": [
       "<matplotlib.figure.Figure at 0x1164024d0>"
      ]
     },
     "metadata": {},
     "output_type": "display_data"
    }
   ],
   "source": [
    "frequencies = pd.crosstab( result_df[ \"month\"], result_df[ \"y\"]).apply(lambda r: r/len(result_df))\n",
    "print frequencies\n",
    "\n",
    "sns.heatmap( frequencies)"
   ]
  },
  {
   "cell_type": "markdown",
   "metadata": {},
   "source": [
    "### Conclusion:\n",
    "\n",
    "1. Month of May, Jun, July, August & November have negative impact on the output"
   ]
  },
  {
   "cell_type": "markdown",
   "metadata": {},
   "source": [
    "### 4.This is a binary classification task. Picking  an appropriate evaluation metric and explain to me the pros and cons.\n",
    "\n",
    "1. It really depends on \"goal\" and dataset. Classification Accuracy (or misclassification error) makes sense if your class labels are uniformly distributed. Even better, we can compute the ROC area under the curve (even for multi-class sytems)\n",
    "\n",
    "2. Similarly, we can generalize all the binary performance metrics such as precision, recall, and F1-score etc. to multi-class settings. \n",
    "\n",
    "3. I have selected accurary to be the evaluation metric, since at this point true cost (of misclassification) of false positive or false negatives are not known.\n",
    "\n",
    "4. Cons can be precision, recall or other metrics could be more important for business impact.\n",
    "\n"
   ]
  },
  {
   "cell_type": "markdown",
   "metadata": {},
   "source": [
    "### 5. Using  Decision Tree. Build a model using three rounds of 10 fold cross validation or 30 repetitions of bootstrap sampling with 90/10 splits to gauge the generalization error of your model using the evaluation metric you picked."
   ]
  },
  {
   "cell_type": "code",
   "execution_count": 13,
   "metadata": {
    "collapsed": false
   },
   "outputs": [],
   "source": [
    "def error_rate(true_class_data, prediction_model_data):\n",
    "    fp=0.0\n",
    "    fn=0.0\n",
    "    for t, p in zip(true_class_data, prediction_model_data):\n",
    "        if t==0 and p==1:\n",
    "            fp=fp+1\n",
    "        elif t==1 and p==0:\n",
    "            fn=fn+1\n",
    "    return (fp+fn)/len(true_class_data)\n",
    "\n",
    "def cross_validate_10_fold( X, y, model):\n",
    "    ret_scores=[]\n",
    "    data\n",
    "    for n in xrange(3):\n",
    "        model = tree.DecisionTreeClassifier(class_weight=\"balanced\").fit( X, y)\n",
    "\n",
    "        # Evaluate the models using crossvalidation\n",
    "        scores = 1-cross_validation.cross_val_score(model, X, y, scoring=\"accuracy\", cv=10)\n",
    "        for s in scores:\n",
    "            ret_scores.append(s)\n",
    "    sample_thetas=non_param_bootstrap(scores, 10000)\n",
    "    ci=stats.mstats.mquantiles( sample_thetas, [0.05, 0.95])\n",
    "    return ci\n",
    "\n",
    "def resample( data):\n",
    "    n = len( data)\n",
    "    return [ data[ i] for i in [np_random.randint(0, n - 1) for _ in xrange( 0, n)]]\n",
    "\n",
    "def non_param_bootstrap(original_data, num_sampling):\n",
    "    return np.array( [np.mean( sample) for sample in [resample(original_data) for i in xrange( 0, num_sampling)]])"
   ]
  },
  {
   "cell_type": "code",
   "execution_count": 14,
   "metadata": {
    "collapsed": true
   },
   "outputs": [],
   "source": [
    "result_df2 = result_df[['job_admin.', 'job_blue-collar', 'job_entrepreneur',\n",
    "       'job_housemaid', 'job_management', 'job_retired',\n",
    "       'job_self-employed', 'job_services', 'job_student',\n",
    "       'job_technician', 'job_unemployed', 'job_unknown',\n",
    "       'marital_divorced', 'marital_married', 'marital_single',\n",
    "       'marital_unknown', 'education_basic.4y', 'education_basic.6y',\n",
    "       'education_basic.9y', 'education_high.school',\n",
    "       'education_illiterate', 'education_professional.course',\n",
    "       'education_university.degree', 'education_unknown', 'default_no',\n",
    "       'default_unknown', 'default_yes', 'housing_no', 'housing_unknown',\n",
    "       'housing_yes', 'loan_no', 'loan_unknown', 'loan_yes',\n",
    "       'contact_cellular', 'contact_telephone', 'month_apr', 'month_aug',\n",
    "       'month_dec', 'month_jul', 'month_jun', 'month_mar', 'month_may',\n",
    "       'month_nov', 'month_oct', 'month_sep', 'day_of_week_fri',\n",
    "       'day_of_week_mon', 'day_of_week_thu', 'day_of_week_tue',\n",
    "       'day_of_week_wed', 'poutcome_failure', 'poutcome_nonexistent',\n",
    "       'poutcome_success', 'age','campaign', 'pdays', 'previous', 'emp.var.rate',\n",
    "       'cons.price.idx', 'cons.conf.idx', 'euribor3m', 'nr.employed', 'output']]\n",
    "y = result_df2['output'].values\n",
    "X = result_df2[['job_admin.', 'job_blue-collar', 'job_entrepreneur',\n",
    "       'job_housemaid', 'job_management', 'job_retired',\n",
    "       'job_self-employed', 'job_services', 'job_student',\n",
    "       'job_technician', 'job_unemployed', 'job_unknown',\n",
    "       'marital_divorced', 'marital_married', 'marital_single',\n",
    "       'marital_unknown', 'education_basic.4y', 'education_basic.6y',\n",
    "       'education_basic.9y', 'education_high.school',\n",
    "       'education_illiterate', 'education_professional.course',\n",
    "       'education_university.degree', 'education_unknown', 'default_no',\n",
    "       'default_unknown', 'default_yes', 'housing_no', 'housing_unknown',\n",
    "       'housing_yes', 'loan_no', 'loan_unknown', 'loan_yes',\n",
    "       'contact_cellular', 'contact_telephone', 'month_apr', 'month_aug',\n",
    "       'month_dec', 'month_jul', 'month_jun', 'month_mar', 'month_may',\n",
    "       'month_nov', 'month_oct', 'month_sep', 'day_of_week_fri',\n",
    "       'day_of_week_mon', 'day_of_week_thu', 'day_of_week_tue',\n",
    "       'day_of_week_wed', 'poutcome_failure', 'poutcome_nonexistent',\n",
    "       'poutcome_success', 'age','campaign', 'pdays', 'previous', 'emp.var.rate',\n",
    "       'cons.price.idx', 'cons.conf.idx', 'euribor3m', 'nr.employed']].values"
   ]
  },
  {
   "cell_type": "code",
   "execution_count": 15,
   "metadata": {
    "collapsed": false
   },
   "outputs": [],
   "source": [
    "np_random.seed(1)\n",
    "ret_scores=[]\n",
    "\n",
    "for n in xrange(3):\n",
    "    X_train, X_test, y_train, y_test = train_test_split(X, y, test_size=0.1)\n",
    "    model = tree.DecisionTreeClassifier(class_weight = \"balanced\").fit( X_train, y_train)\n",
    "    \n",
    "    # Evaluate the models using crossvalidation\n",
    "    scores = cross_validation.cross_val_score(model, X_test, y_test, scoring=\"accuracy\", cv =10)\n",
    "    for s in scores:\n",
    "        ret_scores.append(s)\n",
    "sample_thetas_1=non_param_bootstrap(scores, 10000)\n",
    "ci_1=stats.mstats.mquantiles( sample_thetas_1, [0.05, 0.95])"
   ]
  },
  {
   "cell_type": "code",
   "execution_count": 16,
   "metadata": {
    "collapsed": false
   },
   "outputs": [
    {
     "name": "stdout",
     "output_type": "stream",
     "text": [
      "Accuracy for DecisionTreeClassifier: 0.830836758229 [ 0.82124831  0.83996544]\n"
     ]
    }
   ],
   "source": [
    "print 'Accuracy for DecisionTreeClassifier:', np.mean(sample_thetas_1), ci_1"
   ]
  },
  {
   "cell_type": "markdown",
   "metadata": {},
   "source": [
    "### 6. Using all the data, learn the Decision Tree and plot/visualize it. Does it make sense?\n"
   ]
  },
  {
   "cell_type": "code",
   "execution_count": 17,
   "metadata": {
    "collapsed": false
   },
   "outputs": [
    {
     "data": {
      "image/png": "[encoded data removed]",
      "text/plain": [
       "<IPython.core.display.Image object>"
      ]
     },
     "execution_count": 17,
     "metadata": {},
     "output_type": "execute_result"
    }
   ],
   "source": [
    "clf = tree.DecisionTreeClassifier(max_depth =1)\n",
    "clf.fit(X,y)\n",
    "\n",
    "tree.export_graphviz(clf,out_file='mytree.dot')\n",
    "\n",
    "features = ['job_admin.', 'job_blue-collar', 'job_entrepreneur',\n",
    "       'job_housemaid', 'job_management', 'job_retired',\n",
    "       'job_self-employed', 'job_services', 'job_student',\n",
    "       'job_technician', 'job_unemployed', 'job_unknown',\n",
    "       'marital_divorced', 'marital_married', 'marital_single',\n",
    "       'marital_unknown', 'education_basic.4y', 'education_basic.6y',\n",
    "       'education_basic.9y', 'education_high.school',\n",
    "       'education_illiterate', 'education_professional.course',\n",
    "       'education_university.degree', 'education_unknown', 'default_no',\n",
    "       'default_unknown', 'default_yes', 'housing_no', 'housing_unknown',\n",
    "       'housing_yes', 'loan_no', 'loan_unknown', 'loan_yes',\n",
    "       'contact_cellular', 'contact_telephone', 'month_apr', 'month_aug',\n",
    "       'month_dec', 'month_jul', 'month_jun', 'month_mar', 'month_may',\n",
    "       'month_nov', 'month_oct', 'month_sep', 'day_of_week_fri',\n",
    "       'day_of_week_mon', 'day_of_week_thu', 'day_of_week_tue',\n",
    "       'day_of_week_wed', 'poutcome_failure', 'poutcome_nonexistent',\n",
    "       'poutcome_success', 'age','campaign', 'pdays', 'previous', 'emp.var.rate',\n",
    "       'cons.price.idx', 'cons.conf.idx', 'euribor3m', 'nr.employed']\n",
    "target = ['output']\n",
    "\n",
    "out = StringIO()\n",
    "tree.export_graphviz(clf, out_file = out,feature_names=features,  \n",
    "                         class_names=target,filled=True)\n",
    " \n",
    "graph=pydotplus.graph_from_dot_data(out.getvalue())\n",
    "Image(graph.create_png())"
   ]
  },
  {
   "cell_type": "markdown",
   "metadata": {
    "collapsed": true
   },
   "source": [
    "### Conclusion:\n",
    "\n",
    "1. Tree splits on number of emplyees 5000, which suggests that if number of employees is >5000, then there are high chances that term deposit will not be opened"
   ]
  },
  {
   "cell_type": "markdown",
   "metadata": {},
   "source": [
    "#  Using Logistic Regression"
   ]
  },
  {
   "cell_type": "markdown",
   "metadata": {
    "collapsed": true
   },
   "source": [
    "Repeat your model building exercise with logistic regression. This will require various transformations either because many of the categorical variables are not binary or some of the numerical variables may not work \"out of the box\"."
   ]
  },
  {
   "cell_type": "code",
   "execution_count": 18,
   "metadata": {
    "collapsed": true
   },
   "outputs": [],
   "source": [
    "result_df['pdays'] = result_df['pdays'].apply(lambda x: 0 if x ==999 else x) # to remove 999"
   ]
  },
  {
   "cell_type": "code",
   "execution_count": 19,
   "metadata": {
    "collapsed": true
   },
   "outputs": [],
   "source": [
    "result_df.rename(columns={'education_basic.4y': 'education_basic_4y', 'education_basic.6y':'education_basic_6y', \n",
    "                         'education_basic.9y': 'education_basic_9y',\n",
    "                         'education_high.school': 'education_high_school',\n",
    "                         'education_professional.course': 'education_professional_course',\n",
    "                         'education_university.degree': 'education_university_degree',\n",
    "                         'log_emp.var.rate': 'log_emp_var_rate',\n",
    "                         'cons.price.idx': 'cons_price_idx',\n",
    "                         'cons.conf.idx': 'cons_conf_idx',\n",
    "                         'log_nr.employed': 'log_nr_employed',\n",
    "                         'job_self-employed': 'job_self_employed',\n",
    "                         'job_blue-collar': 'job_blue_collar',\n",
    "                         'nr.employed': 'nr_employed'}, inplace=True)\n"
   ]
  },
  {
   "cell_type": "markdown",
   "metadata": {},
   "source": [
    "### NOTE :\n",
    "I have implemented two data manipulations before fitting logistic regression code:\n",
    "1. Implemented class balancing since 90% is 'no' and 10% 'yes'\n",
    "\n",
    "*** 2. Use standard scalar to scale all the variables since we have high dimentionality & I have used l2_regularized logistic regression ***"
   ]
  },
  {
   "cell_type": "code",
   "execution_count": 34,
   "metadata": {
    "collapsed": false
   },
   "outputs": [
    {
     "name": "stdout",
     "output_type": "stream",
     "text": [
      "Most important features..\n",
      "nr_employed has weight of -0.74420800086\n",
      "month_may has weight of -0.249668914717\n",
      "poutcome_success has weight of 0.202762404037\n",
      "month_jun has weight of 0.150765917551\n",
      "poutcome_failure has weight of -0.146983316092\n",
      "month_jul has weight of 0.140986757101\n",
      "month_mar has weight of 0.129459492858\n",
      "campaign has weight of -0.119171520079\n",
      "cons_conf_idx has weight of 0.10701504875\n",
      "contact_telephone has weight of -0.0944062118242\n",
      "contact_cellular has weight of 0.0944062118242\n",
      "day_of_week_mon has weight of -0.0681975231614\n",
      "job_retired has weight of 0.0672963012841\n",
      "pdays has weight of 0.0660414943094\n",
      "month_nov has weight of -0.0634730639914\n",
      "month_oct has weight of 0.0615705716641\n",
      "month_apr has weight of 0.0518075114483\n",
      "day_of_week_wed has weight of 0.049089821707\n",
      "default_no has weight of 0.0395382277496\n",
      "default_yes has weight of -0.0394893691291\n",
      "job_student has weight of 0.0386957291233\n",
      "default_unknown has weight of -0.0386697895871\n",
      "month_sep has weight of -0.0372135160354\n",
      "education_university_degree has weight of 0.0365828057413\n",
      "cons_price_idx has weight of -0.0342694038456\n",
      "job_blue_collar has weight of -0.0308434890112\n",
      "job_housemaid has weight of -0.0277900326046\n",
      "education_basic_6y has weight of 0.0275751113069\n",
      "euribor3m has weight of -0.025130743777\n",
      "poutcome_nonexistent has weight of 0.0240386260868\n",
      "month_dec has weight of 0.0237087003008\n",
      "education_basic_4y has weight of -0.0225556866426\n",
      "education_high_school has weight of -0.0215036238621\n",
      "marital_single has weight of 0.0184740258691\n",
      "education_basic_9y has weight of -0.0181641705823\n",
      "education_illiterate has weight of 0.0159781050059\n",
      "marital_divorced has weight of -0.0130296699967\n",
      "education_unknown has weight of 0.0124945015586\n",
      "job_management has weight of -0.0122971975491\n",
      "housing_no has weight of 0.0115328209268\n",
      "job_unknown has weight of 0.011499012327\n",
      "previous has weight of 0.0110492624904\n",
      "education_professional_course has weight of -0.0108109143378\n",
      "housing_unknown has weight of -0.0103633150955\n",
      "loan_unknown has weight of -0.0103633150955\n",
      "day_of_week_thu has weight of 0.0103294048462\n",
      "job_self_employed has weight of -0.0099831358735\n",
      "marital_unknown has weight of 0.00987150941507\n",
      "marital_married has weight of -0.00948798905235\n",
      "housing_yes has weight of -0.00829888460981\n",
      "day_of_week_fri has weight of 0.00780510768758\n",
      "job_unemployed has weight of -0.006082192409\n",
      "loan_no has weight of 0.00455772107721\n",
      "job_admin. has weight of 0.00443548192075\n",
      "job_entrepreneur has weight of 0.00324311260237\n",
      "day_of_week_tue has weight of 0.00182691464008\n",
      "job_services has weight of 0.00141222859114\n",
      "age has weight of 0.00136082153155\n",
      "job_technician has weight of 0.000506215054424\n",
      "loan_yes has weight of -0.000399530223812\n",
      "month_aug has weight of -0.000259162160975\n",
      "\n",
      "accuracy: 0.827385287691\n",
      "Confusion matrix : \n",
      "[[3143  536]\n",
      " [ 175  265]]\n",
      "\n",
      "Classification Report..\n",
      "             precision    recall  f1-score   support\n",
      "\n",
      "          0       0.95      0.85      0.90      3679\n",
      "          1       0.33      0.60      0.43       440\n",
      "\n",
      "avg / total       0.88      0.83      0.85      4119\n",
      "\n"
     ]
    }
   ],
   "source": [
    "result_df2 = result_df[['job_admin.', 'job_blue_collar', 'job_entrepreneur',\n",
    "       'job_housemaid', 'job_management', 'job_retired',\n",
    "       'job_self_employed', 'job_services', 'job_student',\n",
    "       'job_technician', 'job_unemployed', 'job_unknown',\n",
    "       'marital_divorced', 'marital_married', 'marital_single',\n",
    "       'marital_unknown', 'education_basic_4y', 'education_basic_6y',\n",
    "       'education_basic_9y', 'education_high_school',\n",
    "       'education_illiterate', 'education_professional_course',\n",
    "       'education_university_degree', 'education_unknown', 'default_no',\n",
    "       'default_unknown', 'default_yes', 'housing_no', 'housing_unknown',\n",
    "       'housing_yes', 'loan_no', 'loan_unknown', 'loan_yes',\n",
    "       'contact_cellular', 'contact_telephone', 'month_apr', 'month_aug',\n",
    "       'month_dec', 'month_jul', 'month_jun', 'month_mar', 'month_may',\n",
    "       'month_nov', 'month_oct', 'month_sep', 'day_of_week_fri',\n",
    "       'day_of_week_mon', 'day_of_week_thu', 'day_of_week_tue',\n",
    "       'day_of_week_wed', 'poutcome_failure', 'poutcome_nonexistent',\n",
    "       'poutcome_success', 'age',\n",
    "       'cons_price_idx', 'cons_conf_idx',\n",
    "       'campaign', 'pdays', 'previous',\n",
    "       'euribor3m', 'nr_employed','output']]\n",
    "y = result_df2['output'].values\n",
    "X = result_df2[['job_admin.', 'job_blue_collar', 'job_entrepreneur',\n",
    "       'job_housemaid', 'job_management', 'job_retired',\n",
    "       'job_self_employed', 'job_services', 'job_student',\n",
    "       'job_technician', 'job_unemployed', 'job_unknown',\n",
    "       'marital_divorced', 'marital_married', 'marital_single',\n",
    "       'marital_unknown', 'education_basic_4y', 'education_basic_6y',\n",
    "       'education_basic_9y', 'education_high_school',\n",
    "       'education_illiterate', 'education_professional_course',\n",
    "       'education_university_degree', 'education_unknown', 'default_no',\n",
    "       'default_unknown', 'default_yes', 'housing_no', 'housing_unknown',\n",
    "       'housing_yes', 'loan_no', 'loan_unknown', 'loan_yes',\n",
    "       'contact_cellular', 'contact_telephone', 'month_apr', 'month_aug',\n",
    "       'month_dec', 'month_jul', 'month_jun', 'month_mar', 'month_may',\n",
    "       'month_nov', 'month_oct', 'month_sep', 'day_of_week_fri',\n",
    "       'day_of_week_mon', 'day_of_week_thu', 'day_of_week_tue',\n",
    "       'day_of_week_wed', 'poutcome_failure', 'poutcome_nonexistent',\n",
    "       'poutcome_success', 'age', \n",
    "       'cons_price_idx', 'cons_conf_idx',\n",
    "       'campaign', 'pdays', 'previous',\n",
    "       'euribor3m', 'nr_employed']].values\n",
    "\n",
    "X_train, X_test, y_train, y_test = train_test_split(X, y, test_size=0.1)\n",
    "\n",
    "from sklearn.preprocessing import StandardScaler\n",
    "\n",
    "# scale attributes by the training set\n",
    "scl_obj = StandardScaler()\n",
    "scl_obj.fit(X_train) # find scalings for each column that make this zero mean and unit std\n",
    "X_train_scaled = scl_obj.transform(X_train) # apply to training\n",
    "X_test_scaled = scl_obj.transform(X_test) # apply those means and std to the test set (without snooping at the test set values)\n",
    "\n",
    "lr_clf = LogisticRegression(penalty='l2', C=0.05, class_weight=\"balanced\") # get object, the 'C' value is less \n",
    "lr_clf.fit(X_train_scaled,y_train)  # train object\n",
    "\n",
    "y_hat = lr_clf.predict(X_test_scaled) # get test set precitions\n",
    "\n",
    "# sort these attributes and spit them out\n",
    "zip_vars = zip(lr_clf.coef_.T,result_df2.columns) # combine attributes\n",
    "zip_vars.sort(key = lambda t: np.abs(t[0]), reverse = True) # sort them by the magnitude of the weight\n",
    "print \"Most important features..\"\n",
    "for coef, name in zip_vars:\n",
    "    print name, 'has weight of', coef[0] # now print them out\n",
    "print    \n",
    "# Determine the false positive and true positive rates\n",
    "acc = mt.accuracy_score(y_test,y_hat)\n",
    "conf = mt.confusion_matrix(y_test,y_hat)\n",
    "print 'accuracy:', acc \n",
    "print \"Confusion matrix : \"\n",
    "print conf\n",
    "print\n",
    "print \"Classification Report..\"\n",
    "from sklearn.metrics import classification_report\n",
    "print(classification_report(y_test, y_hat))\n",
    "\n"
   ]
  },
  {
   "cell_type": "raw",
   "metadata": {
    "collapsed": false
   },
   "source": [
    "### Conclusion:\n",
    "Most important features in order of importance are:\n",
    "\n",
    "nr_employed has weight of -0.681398006123\n",
    "month_may has weight of -0.246928578222\n",
    "poutcome_success has weight of 0.206407049501\n",
    "month_mar has weight of 0.141750934399\n",
    "month_jun has weight of 0.139464827891\n",
    "month_jul has weight of 0.137243792266\n",
    "poutcome_failure has weight of -0.13449930806\n",
    "campaign has weight of -0.118737289544\n",
    "cons_conf_idx has weight of 0.113402680605\n",
    "contact_cellular has weight of 0.103686214576\n",
    "\n"
   ]
  },
  {
   "cell_type": "code",
   "execution_count": 30,
   "metadata": {
    "collapsed": false
   },
   "outputs": [
    {
     "name": "stdout",
     "output_type": "stream",
     "text": [
      "Plot of most important features...\n"
     ]
    },
    {
     "data": {
      "image/png": "[encoded data removed]",
      "text/plain": [
       "<matplotlib.figure.Figure at 0x11846c310>"
      ]
     },
     "metadata": {},
     "output_type": "display_data"
    }
   ],
   "source": [
    "print \"Plot of most important features...\"\n",
    "# now let's make a pandas Series with the names and values, and plot them\n",
    "from matplotlib import pyplot as plt\n",
    "\n",
    "%matplotlib inline\n",
    "figure = plt.figure(figsize=(20, 10))\n",
    "\n",
    "plt.style.use('ggplot')\n",
    "\n",
    "weights = pd.Series(lr_clf.coef_[0], index = ['job_admin.', 'job_blue_collar', 'job_entrepreneur',\n",
    "       'job_housemaid', 'job_management', 'job_retired',\n",
    "       'job_self_employed', 'job_services', 'job_student',\n",
    "       'job_technician', 'job_unemployed', 'job_unknown',\n",
    "       'marital_divorced', 'marital_married', 'marital_single',\n",
    "       'marital_unknown', 'education_basic_4y', 'education_basic_6y',\n",
    "       'education_basic_9y', 'education_high_school',\n",
    "       'education_illiterate', 'education_professional_course',\n",
    "       'education_university_degree', 'education_unknown', 'default_no',\n",
    "       'default_unknown', 'default_yes', 'housing_no', 'housing_unknown',\n",
    "       'housing_yes', 'loan_no', 'loan_unknown', 'loan_yes',\n",
    "       'contact_cellular', 'contact_telephone', 'month_apr', 'month_aug',\n",
    "       'month_dec', 'month_jul', 'month_jun', 'month_mar', 'month_may',\n",
    "       'month_nov', 'month_oct', 'month_sep', 'day_of_week_fri',\n",
    "       'day_of_week_mon', 'day_of_week_thu', 'day_of_week_tue',\n",
    "       'day_of_week_wed', 'poutcome_failure', 'poutcome_nonexistent',\n",
    "       'poutcome_success', 'age', \n",
    "       'cons_price_idx', 'cons_conf_idx',\n",
    "       'campaign', 'pdays', 'previous',\n",
    "       'euribor3m', 'nr_employed'])\n",
    "weights.plot(kind='bar')\n",
    "\n",
    "plt.show()"
   ]
  },
  {
   "cell_type": "markdown",
   "metadata": {},
   "source": [
    "### 2. Repeat the cross-validation using the same approach you picked earlier. Was the Decision Tree or Logistic Regression more accurate? "
   ]
  },
  {
   "cell_type": "code",
   "execution_count": 22,
   "metadata": {
    "collapsed": true
   },
   "outputs": [],
   "source": [
    "np_random.seed(1)\n",
    "ret_scores=[]\n",
    "for n in xrange(3):\n",
    "  \n",
    "    model = lr_clf.fit(X_train_scaled,y_train)\n",
    "    # Evaluate the models using crossvalidation\n",
    "    scores = cross_validation.cross_val_score(model, X_test_scaled, y_test, scoring=\"accuracy\", cv=10)\n",
    "    for s in scores:\n",
    "        ret_scores.append(s)\n",
    "sample_thetas_1=non_param_bootstrap(scores, 10000)\n",
    "ci_1=stats.mstats.mquantiles( sample_thetas_1, [0.05, 0.95])"
   ]
  },
  {
   "cell_type": "code",
   "execution_count": 23,
   "metadata": {
    "collapsed": false
   },
   "outputs": [
    {
     "name": "stdout",
     "output_type": "stream",
     "text": [
      "Accuracy for Logistic Regression: 0.816595194175 [ 0.80800971  0.825     ]\n"
     ]
    }
   ],
   "source": [
    "print 'Accuracy for Logistic Regression:', np.mean(sample_thetas_1), ci_1"
   ]
  },
  {
   "cell_type": "markdown",
   "metadata": {},
   "source": [
    "#### Conclusion:\n",
    "Decision tree model was more accurate"
   ]
  },
  {
   "cell_type": "markdown",
   "metadata": {},
   "source": [
    "### 4.Build a logistic regression model using all of the data and the bootstrap LM. Interpret the coefficients."
   ]
  },
  {
   "cell_type": "markdown",
   "metadata": {},
   "source": [
    "## Important Assumptions for this logistic regression:\n",
    "\n",
    " **I decided to scale the variables since I have decided to use l2 regularization due to high dimensionality in the data since we are selection most important**\n",
    " \n",
    "If we are using L1 regularization then we are caring about feature-selection, as that is it’s main power. It reduces the complexity of the learned model by causing some features being ignored completely, which is called sparsity. As an aside, but since you mention it, L2 regularization isn’t really strong for feature-selection but rather tries to reduce the complexity of the model by preventing very large weighting on features.\n",
    "\n",
    "To answer your question… By using L1-regularization you are already giving some thought to automatic feature-selection. The real question is: should you care more about feature selection? That depends on your problem, how much time you have and your experience-level.\n",
    "\n",
    "If you do use L1-regularization and you know what the features mean then it’s good practice to look at the resulting weights to see what features were selected/ignored. Check how sane this is: in particular look to see if it turned off any features that you know (or believe) should be important. If so, you may need to look at proper scaling, or feature-engineering techniques involving combinations of the existing features."
   ]
  },
  {
   "cell_type": "code",
   "execution_count": 31,
   "metadata": {
    "collapsed": true
   },
   "outputs": [],
   "source": [
    "def logm( formula, data=None):\n",
    "    if data is None:\n",
    "        raise ValueError( \"The parameter 'data' must be assigned a non-nil reference to a Pandas DataFrame\")\n",
    "\n",
    "    result = {}\n",
    "    result[ \"formula\"] = formula\n",
    "    result[ \"n\"] = data.shape[ 0]\n",
    "\n",
    "    from sklearn.preprocessing import StandardScaler\n",
    "\n",
    "\n",
    "    y, X = patsy.dmatrices( formula, data, return_type=\"matrix\")\n",
    "    y = np.ravel( y)\n",
    "    \n",
    "    # scale attributes by the training set\n",
    "    scl_obj = StandardScaler()\n",
    "    scl_obj.fit(X) # find scalings for each column that make this zero mean and unit std\n",
    "    X_scaled = scl_obj.transform(X) # apply to training\n",
    "    \n",
    "    model = linear.LogisticRegression( penalty='l2', class_weight = \"balanced\").fit( X_scaled, y)\n",
    "\n",
    "    result[ \"coefficients\"] = model.coef_[ 0]\n",
    "\n",
    "    y_hat = model.predict( X)\n",
    "    result[ \"residuals\"] = y - y_hat\n",
    "    \n",
    "    n = len( result[ \"residuals\"])\n",
    "    k = len( result[ \"coefficients\"])\n",
    "    \n",
    "    return result\n",
    "\n",
    "def bootstrap_logm( formula, data=None, samples=100):\n",
    "    if data is None:\n",
    "        raise ValueError( \"The parameter 'data' must be assigned a non-nil reference to a Pandas DataFrame\")\n",
    "    \n",
    "    bootstrap_results = {}\n",
    "    bootstrap_results[ \"formula\"] = formula\n",
    "\n",
    "    variables = map( lambda x: x.strip(), formula.split(\"~\")[1].split( \"+\"))\n",
    "    variables = [\"intercept\"] + variables\n",
    "    bootstrap_results[ \"variables\"] = variables\n",
    "    \n",
    "    coeffs = []\n",
    "    sigmas = []\n",
    "    rs = []\n",
    "\n",
    "    n = data.shape[ 0]\n",
    "    bootstrap_results[ \"n\"] = n\n",
    "    \n",
    "    for i in xrange( samples):\n",
    "        sampling_indices = [ i for i in [random.randint(0, n - 1) for _ in xrange( 0, n)]]\n",
    "        sampling = data.loc[ sampling_indices]\n",
    "        \n",
    "        results = logm( formula, data=sampling)\n",
    "        coeffs.append( results[ \"coefficients\"])\n",
    "    \n",
    "    coeffs = pd.DataFrame( coeffs, columns=variables)\n",
    "\n",
    "    bootstrap_results[ \"resampled_coefficients\"] = coeffs\n",
    "    \n",
    "    result = logm( formula, data=data)\n",
    "    \n",
    "    bootstrap_results[ \"residuals\"] = result[ \"residuals\"]\n",
    "    bootstrap_results[ \"coefficients\"] = result[ \"coefficients\"]\n",
    "    return bootstrap_results\n",
    "\n",
    "def describe_bootstrap_fit( result):\n",
    "    print \"regression: \", result[ \"formula\"]\n",
    "    print \"n: \", result[ \"n\"]\n",
    "    print \"----------\"\n",
    "    \n",
    "    \n",
    "    bounds = result[ \"resampled_coefficients\"].quantile([0.025, 0.975])\n",
    "    bounds = bounds.transpose()\n",
    "    bounds = bounds.values.tolist()\n",
    "    \n",
    "    coeffs = result[\"coefficients\"]\n",
    "    \n",
    "\n",
    "    for variable, coefficient, bound in zip( result[ \"variables\"], result[\"coefficients\"], bounds):\n",
    "        print variable + \": \", coefficient, bound\n",
    "    return coeffs"
   ]
  },
  {
   "cell_type": "code",
   "execution_count": null,
   "metadata": {
    "collapsed": true
   },
   "outputs": [],
   "source": []
  },
  {
   "cell_type": "code",
   "execution_count": 32,
   "metadata": {
    "collapsed": false
   },
   "outputs": [
    {
     "name": "stdout",
     "output_type": "stream",
     "text": [
      "regression:  output~age+campaign+pdays+previous+euribor3m+nr_employed+cons_price_idx+ cons_conf_idx +job_blue_collar+job_entrepreneur+job_housemaid +job_management +job_retired+job_self_employed + job_services + job_student +job_technician + job_unemployed +job_unknown +marital_divorced + marital_married + marital_single + marital_unknown +education_basic_4y +education_basic_6y+education_basic_9y + education_high_school +education_illiterate +education_professional_course +education_university_degree + education_unknown + default_yes + housing_yes + loan_yes+contact_cellular +month_apr+month_aug+ month_dec + month_jul+ month_jun+month_mar+month_may+month_nov+month_oct+month_sep+ day_of_week_fri+day_of_week_mon+day_of_week_thu+day_of_week_tue+day_of_week_wed+poutcome_success\n",
      "n:  41188\n",
      "----------\n",
      "intercept:  0.0 [0.0, 0.0]\n",
      "age:  -0.0119019903755 [-0.04963829935238667, 0.023462673160025982]\n",
      "campaign:  -0.117572970299 [-0.17064820898127994, -0.074278593445745]\n",
      "pdays:  0.0811885141838 [0.04237078535176554, 0.12103473906038428]\n",
      "previous:  -0.135844874687 [-0.18282746814678066, -0.10384609263801609]\n",
      "euribor3m:  0.261939396138 [-0.1707131151521594, 0.6983792160401763]\n",
      "nr_employed:  -0.988401355325 [-1.3409481165724007, -0.6695895777685317]\n",
      "cons_price_idx:  -0.101861352778 [-0.2370026289665645, 0.05012677410739627]\n",
      "cons_conf_idx:  0.0596027895188 [-0.008998602701119542, 0.12284043735459946]\n",
      "job_blue_collar:  -0.0396894589841 [-0.10645923383556127, 0.017246314706893154]\n",
      "job_entrepreneur:  0.00642339107816 [-0.03090047307572714, 0.045557961905526315]\n",
      "job_housemaid:  -0.0183591130397 [-0.062034680042820645, 0.01968606301586101]\n",
      "job_management:  -0.004311675287 [-0.03563883771291422, 0.03434650921083436]\n",
      "job_retired:  0.0730142676806 [0.03576090167858442, 0.1153350808438311]\n",
      "job_self_employed:  -0.00598060787497 [-0.036420927325051214, 0.02737996028903058]\n",
      "job_services:  -0.0238450260285 [-0.08169310577900657, 0.020692492484515934]\n",
      "job_student:  0.0455562256839 [0.01622939230412882, 0.07157010372531505]\n",
      "job_technician:  -0.00547779204193 [-0.06646428366201493, 0.0375967665767873]\n",
      "job_unemployed:  -0.00951899132115 [-0.049371030673642714, 0.019231691852201853]\n",
      "job_unknown:  0.000762049928821 [-0.038930378669908935, 0.03327839500388104]\n",
      "marital_divorced:  -0.0150904180252 [-0.042668103857474285, 0.015870856428746964]\n",
      "marital_married:  -0.0112274089549 [-0.034869320482377245, 0.009008076966701474]\n",
      "marital_single:  0.0212318465151 [-0.004949313386831935, 0.04384866765143121]\n",
      "marital_unknown:  0.0160016502549 [-0.03669409965357545, 0.0430691306782101]\n",
      "education_basic_4y:  -0.0395209482367 [-0.07724932043785068, 0.0012566913704892615]\n",
      "education_basic_6y:  0.0164676776981 [-0.025411530822553256, 0.054601700317870615]\n",
      "education_basic_9y:  -0.01572801081 [-0.047763119041658725, 0.01763193952215264]\n",
      "education_high_school:  -0.00612772452811 [-0.037635939936786295, 0.019573886256327208]\n",
      "education_illiterate:  0.0144416442181 [-0.02072519090189988, 0.04278081649450996]\n",
      "education_professional_course:  -0.0070941686724 [-0.050103926942292085, 0.03685078185338582]\n",
      "education_university_degree:  0.0382572994862 [0.004993572187538001, 0.06969677937480553]\n",
      "education_unknown:  0.0045397117302 [-0.020085116261621978, 0.037107935333235836]\n",
      "default_yes:  -0.0497065142987 [-0.09538244481350684, 0.0]\n",
      "housing_yes:  -0.0150313705075 [-0.04753904194380257, 0.02024367138821202]\n",
      "loan_yes:  -0.0035926552091 [-0.035355831255538574, 0.031427883185408456]\n",
      "contact_cellular:  0.186518823598 [0.1329940126298108, 0.24210765930945655]\n",
      "month_apr:  0.0452422377069 [0.012194895946866052, 0.06568624209598245]\n",
      "month_aug:  0.0101121058789 [-0.02475020053428644, 0.04417023985006914]\n",
      "month_dec:  0.0234356581623 [-0.0013225515366592562, 0.052524517814199534]\n",
      "month_jul:  0.147696029188 [0.11092083702521324, 0.18202233704971393]\n",
      "month_jun:  0.162055334324 [0.1185239739721336, 0.20491073052430128]\n",
      "month_mar:  0.124832135981 [0.10328764463685264, 0.15018178101764612]\n",
      "month_may:  -0.257715019036 [-0.2950868510702648, -0.23274743454853322]\n",
      "month_nov:  -0.0716251821222 [-0.10786371981775493, -0.030307450070385714]\n",
      "month_oct:  0.0578923982075 [0.021477417751910272, 0.09507594685628123]\n",
      "month_sep:  -0.0463908240778 [-0.07268865408600939, -0.018820246904992843]\n",
      "day_of_week_fri:  0.00808887821916 [-0.021445770274286576, 0.034205316736476775]\n",
      "day_of_week_mon:  -0.0642563683217 [-0.09488860233837526, -0.02909206211495524]\n",
      "day_of_week_thu:  0.0103399209018 [-0.013157557925705372, 0.04096287943559663]\n",
      "day_of_week_tue:  -0.00138745671332 [-0.027341565701417884, 0.022844933265791977]\n",
      "day_of_week_wed:  0.0482071511669 [0.01761121959285627, 0.07100632100259505]\n",
      "poutcome_success:  0.272924058973 [0.23902370650637847, 0.3244818273145754]\n"
     ]
    }
   ],
   "source": [
    "result=bootstrap_logm('output~age+campaign+pdays+previous+euribor3m+nr_employed+cons_price_idx+ cons_conf_idx +job_blue_collar+job_entrepreneur+job_housemaid +job_management +job_retired+job_self_employed + job_services + job_student +job_technician + job_unemployed +job_unknown +marital_divorced + marital_married + marital_single + marital_unknown +education_basic_4y +education_basic_6y+education_basic_9y + education_high_school +education_illiterate +education_professional_course +education_university_degree + education_unknown + default_yes + housing_yes + loan_yes+contact_cellular +month_apr+month_aug+ month_dec + month_jul+ month_jun+month_mar+month_may+month_nov+month_oct+month_sep+ day_of_week_fri+day_of_week_mon+day_of_week_thu+day_of_week_tue+day_of_week_wed+poutcome_success', result_df)\n",
    "coefficients = describe_bootstrap_fit(result)\n"
   ]
  },
  {
   "cell_type": "markdown",
   "metadata": {},
   "source": [
    "### Explain all the coeficients"
   ]
  },
  {
   "cell_type": "code",
   "execution_count": 33,
   "metadata": {
    "collapsed": false
   },
   "outputs": [
    {
     "name": "stdout",
     "output_type": "stream",
     "text": [
      "For every unit of age increase, the probability of Y changes by -0.30%\n",
      "For every unit of campaign increase, the probability of Y changes by -2.94%\n",
      "For every unit of pdays increase, the probability of Y changes by 2.03%\n",
      "For every unit of previous increase, the probability of Y changes by -3.40%\n",
      "For every unit of euribor3m increase, the probability of Y changes by 6.55%\n",
      "For every unit of nr_employed increase, the probability of Y changes by -24.71%\n",
      "For every unit of cons_price_idx increase, the probability of Y changes by -2.55%\n",
      "For every unit of cons_conf_idx increase, the probability of Y changes by 1.49%\n",
      "For every unit of job_blue_collar increase, the probability of Y changes by -0.99%\n",
      "For every unit of job_entrepeneur increase, the probability of Y changes by 0.16%\n",
      "For every unit of job_housemaid increase, the probability of Y changes by -0.46%\n",
      "For every unit of job_management increase, the probability of Y changes by -0.11%\n",
      "For every unit of job_retired increase, the probability of Y changes by 1.83%\n",
      "For every unit of job_selfemployed increase, the probability of Y changes by -0.15%\n",
      "For every unit of job_services increase, the probability of Y changes by -0.60%\n",
      "For every unit of job_student increase, the probability of Y changes by 1.14%\n",
      "For every unit of job_technician increase, the probability of Y changes by -0.14%\n",
      "For every unit of job_umemployed increase, the probability of Y changes by -0.24%\n",
      "For every unit of job_unknown increase, the probability of Y changes by 0.02%\n",
      "For every unit of martial_divorced increase, the probability of Y changes by -0.38%\n",
      "For every unit of martial_married increase, the probability of Y changes by -0.28%\n",
      "For every unit of martial_single increase, the probability of Y changes by 0.53%\n",
      "For every unit of martial_unknown increase, the probability of Y changes by 0.40%\n",
      "For every unit of education_basic_4y increase, the probability of Y changes by -0.99%\n",
      "For every unit of education_basic_6y increase, the probability of Y changes by 0.41%\n",
      "For every unit of education_basic_9y increase, the probability of Y changes by -0.39%\n",
      "For every unit of education_basic_highschool increase, the probability of Y changes by -0.15%\n",
      "For every unit of education_basic_illeterate increase, the probability of Y changes by 0.36%\n",
      "For every unit of education_basic_profcourse increase, the probability of Y changes by -0.18%\n",
      "For every unit of education_basic_univdegree increase, the probability of Y changes by 0.96%\n",
      "For every unit of education_unknown increase, the probability of Y changes by 0.11%\n",
      "For every unit of default_yes increase, the probability of Y changes by -1.24%\n",
      "For every unit of housing_yes increase, the probability of Y changes by -0.38%\n",
      "For every unit of loan_yes increase, the probability of Y changes by -0.09%\n",
      "For every unit of contact_cellular increase, the probability of Y changes by 4.66%\n",
      "For every unit of month_apr increase, the probability of Y changes by 1.13%\n",
      "For every unit of month_aug increase, the probability of Y changes by 0.25%\n",
      "For every unit of month_dec increase, the probability of Y changes by 0.59%\n",
      "For every unit of month_jul increase, the probability of Y changes by 3.69%\n",
      "For every unit of month_jun increase, the probability of Y changes by 4.05%\n",
      "For every unit of month_mar increase, the probability of Y changes by 3.12%\n",
      "For every unit of month_may increase, the probability of Y changes by -6.44%\n",
      "For every unit of month_nov increase, the probability of Y changes by -1.79%\n",
      "For every unit of month_oct increase, the probability of Y changes by 1.45%\n",
      "For every unit of month_sept increase, the probability of Y changes by -1.16%\n",
      "For every unit of day_of_week_fri increase, the probability of Y changes by 0.20%\n",
      "For every unit of day_of_week_mon increase, the probability of Y changes by -1.61%\n",
      "For every unit of day_of_week_thurs increase, the probability of Y changes by 0.26%\n",
      "For every unit of day_of_week_tues increase, the probability of Y changes by -0.03%\n",
      "For every unit of day_of_week_wed increase, the probability of Y changes by 1.21%\n",
      "For every unit of p_outcome_success increase, the probability of Y changes by 6.82%\n"
     ]
    }
   ],
   "source": [
    "print 'For every unit of age increase, the probability of Y changes by %.2f%%'%(((coefficients[1]/4))*100)\n",
    "print 'For every unit of campaign increase, the probability of Y changes by %.2f%%'%(((coefficients[2]/4))*100)\n",
    "print 'For every unit of pdays increase, the probability of Y changes by %.2f%%'%(((coefficients[3]/4))*100)\n",
    "print 'For every unit of previous increase, the probability of Y changes by %.2f%%'%(((coefficients[4]/4))*100)\n",
    "print 'For every unit of euribor3m increase, the probability of Y changes by %.2f%%'%((coefficients[5]/4)*100)\n",
    "print 'For every unit of nr_employed increase, the probability of Y changes by %.2f%%'%((coefficients[6]/4)*100)\n",
    "print 'For every unit of cons_price_idx increase, the probability of Y changes by %.2f%%'%((coefficients[7]/4)*100)\n",
    "print 'For every unit of cons_conf_idx increase, the probability of Y changes by %.2f%%'%((coefficients[8]/4)*100)\n",
    "print 'For every unit of job_blue_collar increase, the probability of Y changes by %.2f%%'%((coefficients[9]/4)*100)\n",
    "print 'For every unit of job_entrepeneur increase, the probability of Y changes by %.2f%%'%((coefficients[10]/4)*100)\n",
    "print 'For every unit of job_housemaid increase, the probability of Y changes by %.2f%%'%((coefficients[11]/4)*100)\n",
    "print 'For every unit of job_management increase, the probability of Y changes by %.2f%%'%((coefficients[12]/4)*100)\n",
    "print 'For every unit of job_retired increase, the probability of Y changes by %.2f%%'%((coefficients[13]/4)*100)\n",
    "print 'For every unit of job_selfemployed increase, the probability of Y changes by %.2f%%'%((coefficients[14]/4)*100)\n",
    "print 'For every unit of job_services increase, the probability of Y changes by %.2f%%'%((coefficients[15]/4)*100)\n",
    "print 'For every unit of job_student increase, the probability of Y changes by %.2f%%'%((coefficients[16]/4)*100)\n",
    "print 'For every unit of job_technician increase, the probability of Y changes by %.2f%%'%((coefficients[17]/4)*100)\n",
    "\n",
    "print 'For every unit of job_umemployed increase, the probability of Y changes by %.2f%%'%(((coefficients[18]/4))*100)\n",
    "print 'For every unit of job_unknown increase, the probability of Y changes by %.2f%%'%(((coefficients[19]/4))*100)\n",
    "print 'For every unit of martial_divorced increase, the probability of Y changes by %.2f%%'%(((coefficients[20]/4))*100)\n",
    "print 'For every unit of martial_married increase, the probability of Y changes by %.2f%%'%((coefficients[21]/4)*100)\n",
    "print 'For every unit of martial_single increase, the probability of Y changes by %.2f%%'%((coefficients[22]/4)*100)\n",
    "print 'For every unit of martial_unknown increase, the probability of Y changes by %.2f%%'%((coefficients[23]/4)*100)\n",
    "print 'For every unit of education_basic_4y increase, the probability of Y changes by %.2f%%'%((coefficients[24]/4)*100)\n",
    "print 'For every unit of education_basic_6y increase, the probability of Y changes by %.2f%%'%((coefficients[25]/4)*100)\n",
    "print 'For every unit of education_basic_9y increase, the probability of Y changes by %.2f%%'%((coefficients[26]/4)*100)\n",
    "print 'For every unit of education_basic_highschool increase, the probability of Y changes by %.2f%%'%((coefficients[27]/4)*100)\n",
    "print 'For every unit of education_basic_illeterate increase, the probability of Y changes by %.2f%%'%((coefficients[28]/4)*100)\n",
    "print 'For every unit of education_basic_profcourse increase, the probability of Y changes by %.2f%%'%((coefficients[29]/4)*100)\n",
    "print 'For every unit of education_basic_univdegree increase, the probability of Y changes by %.2f%%'%((coefficients[30]/4)*100)\n",
    "print 'For every unit of education_unknown increase, the probability of Y changes by %.2f%%'%((coefficients[31]/4)*100)\n",
    "print 'For every unit of default_yes increase, the probability of Y changes by %.2f%%'%((coefficients[32]/4)*100)\n",
    "print 'For every unit of housing_yes increase, the probability of Y changes by %.2f%%'%((coefficients[33]/4)*100)\n",
    "\n",
    "print 'For every unit of loan_yes increase, the probability of Y changes by %.2f%%'%((coefficients[34]/4)*100)\n",
    "print 'For every unit of contact_cellular increase, the probability of Y changes by %.2f%%'%((coefficients[35]/4)*100)\n",
    "print 'For every unit of month_apr increase, the probability of Y changes by %.2f%%'%((coefficients[36]/4)*100)\n",
    "print 'For every unit of month_aug increase, the probability of Y changes by %.2f%%'%((coefficients[37]/4)*100)\n",
    "print 'For every unit of month_dec increase, the probability of Y changes by %.2f%%'%((coefficients[38]/4)*100)\n",
    "print 'For every unit of month_jul increase, the probability of Y changes by %.2f%%'%((coefficients[39]/4)*100)\n",
    "print 'For every unit of month_jun increase, the probability of Y changes by %.2f%%'%((coefficients[40]/4)*100)\n",
    "print 'For every unit of month_mar increase, the probability of Y changes by %.2f%%'%((coefficients[41]/4)*100)\n",
    "print 'For every unit of month_may increase, the probability of Y changes by %.2f%%'%((coefficients[42]/4)*100)\n",
    "\n",
    "\n",
    "print 'For every unit of month_nov increase, the probability of Y changes by %.2f%%'%((coefficients[43]/4)*100)\n",
    "print 'For every unit of month_oct increase, the probability of Y changes by %.2f%%'%((coefficients[44]/4)*100)\n",
    "print 'For every unit of month_sept increase, the probability of Y changes by %.2f%%'%((coefficients[45]/4)*100)\n",
    "print 'For every unit of day_of_week_fri increase, the probability of Y changes by %.2f%%'%((coefficients[46]/4)*100)\n",
    "print 'For every unit of day_of_week_mon increase, the probability of Y changes by %.2f%%'%((coefficients[47]/4)*100)\n",
    "print 'For every unit of day_of_week_thurs increase, the probability of Y changes by %.2f%%'%((coefficients[48]/4)*100)\n",
    "\n",
    "print 'For every unit of day_of_week_tues increase, the probability of Y changes by %.2f%%'%((coefficients[49]/4)*100)\n",
    "print 'For every unit of day_of_week_wed increase, the probability of Y changes by %.2f%%'%((coefficients[50]/4)*100)\n",
    "print 'For every unit of p_outcome_success increase, the probability of Y changes by %.2f%%'%((coefficients[51]/4)*100)\n",
    "\n"
   ]
  },
  {
   "cell_type": "markdown",
   "metadata": {
    "collapsed": true
   },
   "source": [
    "### 4. Which model is easier to interpret, Decision Tree or Logistic Regression? Why?\n",
    "\n"
   ]
  },
  {
   "cell_type": "markdown",
   "metadata": {},
   "source": [
    "Decision tree is easier to inpterpret as it exhibits the most important features on which tree splits\n"
   ]
  },
  {
   "cell_type": "markdown",
   "metadata": {},
   "source": [
    "\n",
    "### 5. Imagine you had to build a system that evaluated 10,000 of these a minute. Which system would you rather deploy into production? Why? Consider support, stakeholder buy-in, engineering infrastructure, etc."
   ]
  },
  {
   "cell_type": "markdown",
   "metadata": {},
   "source": [
    "\n",
    "Both algorithms are really fast. There isn't much to distinguish them in terms of run-time.\n",
    "\n",
    "Logistic regression will work better if there's a single decision boundary, not necessarily parallel to the axis.\n",
    "\n",
    "Decision trees can be applied to situations where there's not just one underlying decision boundary, but many, and will work best if the class labels roughly lie in hyper-rectangular regions.\n",
    "\n",
    "\n",
    "### I would select logistic regression because:\n",
    "Logistic regression is intrinsically simple, it has low variance and so is less prone to over-fitting. \n",
    "\n",
    "Decision trees can be scaled up to be very complex, are are more liable to over-fit. Pruning is applied to avoid this."
   ]
  }
 ],
 "metadata": {
  "anaconda-cloud": {},
  "kernelspec": {
   "display_name": "Python [default]",
   "language": "python",
   "name": "python2"
  },
  "language_info": {
   "codemirror_mode": {
    "name": "ipython",
    "version": 2
   },
   "file_extension": ".py",
   "mimetype": "text/x-python",
   "name": "python",
   "nbconvert_exporter": "python",
   "pygments_lexer": "ipython2",
   "version": "2.7.12"
  }
 },
 "nbformat": 4,
 "nbformat_minor": 0
}
